{
 "cells": [
  {
   "cell_type": "markdown",
   "metadata": {},
   "source": [
    "# Mark Post processing\n"
   ]
  },
  {
   "cell_type": "code",
   "execution_count": null,
   "metadata": {},
   "outputs": [],
   "source": [
    "%pip install pandas openpyxl"
   ]
  },
  {
   "cell_type": "code",
   "execution_count": null,
   "metadata": {},
   "outputs": [],
   "source": [
    "import pandas as pd\n",
    "\n",
    "df = pd.read_csv('marks.csv')\n",
    "df.head()"
   ]
  },
  {
   "cell_type": "code",
   "execution_count": null,
   "metadata": {},
   "outputs": [],
   "source": [
    "df = df.loc[:, ~df.columns.str.endswith('@type')]\n",
    "df.head()"
   ]
  },
  {
   "cell_type": "code",
   "execution_count": null,
   "metadata": {},
   "outputs": [],
   "source": [
    "df.dropna(subset=['passAt'], inplace=True)"
   ]
  },
  {
   "cell_type": "code",
   "execution_count": null,
   "metadata": {},
   "outputs": [],
   "source": [
    "df['firstTrial'] = pd.to_datetime(df['firstTrial'], format=\"ISO8601\")\n",
    "df['lastTrial'] = pd.to_datetime(df['lastTrial'], format=\"ISO8601\")\n",
    "df['passAt'] = pd.to_datetime(df['passAt'], format=\"ISO8601\")\n",
    "df['PartitionKey'] = df['PartitionKey'].astype(str)\n",
    "df['RowKey'] = df['RowKey'].astype(str)"
   ]
  },
  {
   "cell_type": "code",
   "execution_count": null,
   "metadata": {},
   "outputs": [],
   "source": [
    "df.dtypes"
   ]
  },
  {
   "cell_type": "code",
   "execution_count": null,
   "metadata": {},
   "outputs": [],
   "source": [
    "df['RowKey'] = df['RowKey'].str.replace('AzureProjectTestLib.', '')\n"
   ]
  },
  {
   "cell_type": "code",
   "execution_count": null,
   "metadata": {},
   "outputs": [],
   "source": [
    "df.head()"
   ]
  },
  {
   "cell_type": "code",
   "execution_count": null,
   "metadata": {},
   "outputs": [],
   "source": [
    "pass_at_df = pd.pivot_table(df, values='passAt', index=['PartitionKey'], columns=['RowKey'])\n",
    "print(pass_at_df)\n"
   ]
  },
  {
   "cell_type": "code",
   "execution_count": null,
   "metadata": {},
   "outputs": [],
   "source": [
    "# convert pass_at_df each column to ranking where the earliest time is 1, the second earliest is 2 .. set NaT to 0. Skip the first column\n",
    "pass_at_df = pass_at_df.apply(lambda x: pd.Series(pd.factorize(x, sort=True)[0]+1, index=x.index) if x.dtype.kind == 'M' else x)\n",
    "pass_at_df.iloc[:, 1:] = pass_at_df.iloc[:, 1:].astype(int)\n",
    "print(pass_at_df)\n"
   ]
  },
  {
   "cell_type": "code",
   "execution_count": null,
   "metadata": {},
   "outputs": [],
   "source": [
    "pass_at_df = pass_at_df.apply(lambda x: x.dt.tz_localize(None) if x.dtype.kind == 'M' else x)\n",
    "pass_at_df.to_excel('pass_at.xlsx')\n"
   ]
  },
  {
   "cell_type": "code",
   "execution_count": null,
   "metadata": {},
   "outputs": [],
   "source": []
  }
 ],
 "metadata": {
  "kernelspec": {
   "display_name": "Python 3",
   "language": "python",
   "name": "python3"
  },
  "language_info": {
   "codemirror_mode": {
    "name": "ipython",
    "version": 3
   },
   "file_extension": ".py",
   "mimetype": "text/x-python",
   "name": "python",
   "nbconvert_exporter": "python",
   "pygments_lexer": "ipython3",
   "version": "3.10.8"
  }
 },
 "nbformat": 4,
 "nbformat_minor": 2
}
